{
 "cells": [
  {
   "cell_type": "code",
   "execution_count": 26,
   "id": "b4649674-a772-42f6-a3a5-27a853ecdfe3",
   "metadata": {},
   "outputs": [],
   "source": [
    "import numpy as np\n",
    "import pandas as pd\n",
    "import seaborn as sns"
   ]
  },
  {
   "cell_type": "code",
   "execution_count": 27,
   "id": "76b7a7d5-5d32-4b96-8f12-e21a0d498e7b",
   "metadata": {},
   "outputs": [],
   "source": [
    "df=pd.read_csv('spam.csv',encoding='ISO-8859-1')    # Original file was not encoded in UTF-8\n",
    "#df.sample(10) = Sample is random while head is organized\n",
    "#df.shape = (5572,5) "
   ]
  },
  {
   "cell_type": "markdown",
   "id": "fec07184-a9e3-43ab-9353-028d7a77c267",
   "metadata": {
    "jp-MarkdownHeadingCollapsed": true
   },
   "source": [
    "## Work Flow\n",
    "1. Data Cleaning\n",
    "2. EDA\n",
    "3. Text Preprocessing\n",
    "4. Model Building\n",
    "5. Evaluation\n",
    "6. Improvement\n",
    "7. Website\n",
    "8. Deployment"
   ]
  },
  {
   "cell_type": "markdown",
   "id": "fd5f2fb1-d8b7-4497-8b71-7d4d057abacb",
   "metadata": {
    "jp-MarkdownHeadingCollapsed": true
   },
   "source": [
    "# Step-1: Data Cleaning"
   ]
  },
  {
   "cell_type": "code",
   "execution_count": 28,
   "id": "5c437fa4-d2f6-4e58-8b05-b72bbc7b90ca",
   "metadata": {},
   "outputs": [],
   "source": [
    "df.drop(columns=['Unnamed: 2','Unnamed: 3','Unnamed: 4'],inplace=True)\n",
    "df.rename(columns={'v1':'target','v2':'text'},inplace=True)"
   ]
  },
  {
   "cell_type": "code",
   "execution_count": 29,
   "id": "20b7c995-6451-471b-bf67-5dca6b27befa",
   "metadata": {},
   "outputs": [],
   "source": [
    "from sklearn.preprocessing import LabelEncoder      # Transform spam values to 1 and not spam to 0 in target\n",
    "encoder=LabelEncoder()\n",
    "df['target']=encoder.fit_transform(df['target'])\n",
    "#df.info()  --> To find NULL  \n",
    "#df.isnull().sum() = 0\n",
    "#df.duplicated().sum() = 403\n",
    "df=df.drop_duplicates(keep='first')\n",
    "#df.shape = (5169,2)"
   ]
  },
  {
   "cell_type": "markdown",
   "id": "7e697bed-80a2-41c5-87b8-b279c416529e",
   "metadata": {
    "jp-MarkdownHeadingCollapsed": true
   },
   "source": [
    "# Step-2: Exploratory Data Analysis"
   ]
  },
  {
   "cell_type": "code",
   "execution_count": 30,
   "id": "858369cd-e86c-4fae-9cf9-4769fbf7cd4b",
   "metadata": {},
   "outputs": [
    {
     "data": {
      "text/plain": [
       "([<matplotlib.patches.Wedge at 0x2600cf03730>,\n",
       "  <matplotlib.patches.Wedge at 0x2600cf03640>],\n",
       " [Text(-1.0144997251399075, 0.4251944351600247, 'ham'),\n",
       "  Text(1.014499764949479, -0.4251943401757036, 'spam')],\n",
       " [Text(-0.5533634864399495, 0.23192423736001344, '87.37'),\n",
       "  Text(0.5533635081542612, -0.23192418555038377, '12.63')])"
      ]
     },
     "execution_count": 30,
     "metadata": {},
     "output_type": "execute_result"
    },
    {
     "data": {
      "image/png": "[encoded data removed]",
      "text/plain": [
       "<Figure size 640x480 with 1 Axes>"
      ]
     },
     "metadata": {},
     "output_type": "display_data"
    }
   ],
   "source": [
    "# EDA (Exploratory Data Analysis) \n",
    "#df['target'].value_counts() = spam(653),ham(4516)\n",
    "import matplotlib.pyplot as plt\n",
    "plt.pie(df['target'].value_counts(),labels=['ham','spam'],autopct=\"%0.2f\")  #pie chart with after decimal 2 values (0.2float) ie- autopercentage\n",
    "#plt.show()"
   ]
  },
  {
   "cell_type": "code",
   "execution_count": 31,
   "id": "7860c794-e4ca-4a63-a4ca-3c460c0dc041",
   "metadata": {},
   "outputs": [
    {
     "name": "stderr",
     "output_type": "stream",
     "text": [
      "[nltk_data] Downloading package punkt_tab to\n",
      "[nltk_data]     C:\\Users\\DELL\\AppData\\Roaming\\nltk_data...\n",
      "[nltk_data]   Package punkt_tab is already up-to-date!\n"
     ]
    },
    {
     "data": {
      "text/plain": [
       "True"
      ]
     },
     "execution_count": 31,
     "metadata": {},
     "output_type": "execute_result"
    }
   ],
   "source": [
    "import nltk                     # Processing the text for keywords\n",
    "nltk.download('punkt_tab')      # For splitting text into individual sentences"
   ]
  },
  {
   "cell_type": "code",
   "execution_count": 32,
   "id": "1d29d49f-c615-4151-8d82-7eab44459c73",
   "metadata": {},
   "outputs": [],
   "source": [
    "df['num_characters']=df['text'].apply(len)                                  # stores char lengths \n",
    "df['num_words']=df['text'].apply(lambda x:len(nltk.word_tokenize(x)))       # no.of words or tokens\n",
    "df['num_sentences']=df['text'].apply(lambda x:len(nltk.sent_tokenize(x)))   # no.of sentences (comma separated)\n",
    "#df.head()"
   ]
  },
  {
   "cell_type": "code",
   "execution_count": 33,
   "id": "688a5aff-7646-49b6-b884-d66609ade3ee",
   "metadata": {},
   "outputs": [],
   "source": [
    "#df[['num_characters','num_words','num_sentences']].describe()"
   ]
  },
  {
   "cell_type": "code",
   "execution_count": 34,
   "id": "1cdb0663-a992-48b5-9ea4-3d8f0d91e71c",
   "metadata": {},
   "outputs": [],
   "source": [
    "#for ham\n",
    "#df[df['target']==0][['num_characters','num_words','num_sentences']].describe()\n",
    "#for spam\n",
    "#df[df['target']==1][['num_characters','num_words','num_sentences']].describe()"
   ]
  },
  {
   "cell_type": "code",
   "execution_count": 35,
   "id": "460a6d4d-4942-4e16-8f6c-85a0a3a2e936",
   "metadata": {},
   "outputs": [],
   "source": [
    "# Histogram Representation\n",
    "import seaborn as sns\n",
    "#sns.histplot(df[df['target']==0]['num_characters'])\n",
    "#sns.histplot(df[df['target']==1]['num_characters'],color='red')"
   ]
  },
  {
   "cell_type": "code",
   "execution_count": 36,
   "id": "cf420452-2ee1-4d0e-99bd-d4043b02b3b0",
   "metadata": {},
   "outputs": [],
   "source": [
    "#sns.histplot(df[df['target']==0]['num_words'])\n",
    "#sns.histplot(df[df['target']==1]['num_words'],color='red')"
   ]
  },
  {
   "cell_type": "code",
   "execution_count": 37,
   "id": "893f72d5-2d17-48b9-9d33-d22b43df28d4",
   "metadata": {},
   "outputs": [],
   "source": [
    "#sns.histplot(df[df['target']==0]['num_sentences'])\n",
    "#sns.histplot(df[df['target']==1]['num_sentences'],color='red')"
   ]
  },
  {
   "cell_type": "code",
   "execution_count": 38,
   "id": "a78a29ec-1e0c-438b-a37d-3101a1983197",
   "metadata": {},
   "outputs": [],
   "source": [
    "#sns.pairplot(df,hue='target')  # we can see outliers"
   ]
  },
  {
   "cell_type": "code",
   "execution_count": 39,
   "id": "928f78d0-f6d2-4183-8000-ceb782721de7",
   "metadata": {
    "scrolled": true
   },
   "outputs": [],
   "source": [
    "#sns.heatmap(df.corr(numeric_only=True),annot=True)        # to find correlations on a heatmap ,annotation will show values.\n",
    "# we are going to keep one column only and that will be num_characters becoz it has strongest corr() with target."
   ]
  },
  {
   "cell_type": "markdown",
   "id": "f575d937-c973-46c1-b82f-ce6e5db32832",
   "metadata": {
    "jp-MarkdownHeadingCollapsed": true
   },
   "source": [
    "# Step-3: Data Preprocessing\n",
    "1) Lower Case \n",
    "2) Tokenization -- breaks into small words\n",
    "3) Removing special chars\n",
    "4) Removing stop words and punctuation\n",
    "5) Stemming"
   ]
  },
  {
   "cell_type": "code",
   "execution_count": 40,
   "id": "69905693-81ee-40be-b734-96b50b565878",
   "metadata": {},
   "outputs": [],
   "source": [
    "def transform_text(text):\n",
    "    text=text.lower()                        # step-1\n",
    "    text=nltk.word_tokenize(text)            # step-2\n",
    "\n",
    "    y=[]                                     # step-3 Only using alphanumeric terms\n",
    "    for i in text:\n",
    "        if i.isalnum():\n",
    "            y.append(i)\n",
    "    text=y[:]                               # cloning\n",
    "    y.clear()\n",
    "    for i in text:\n",
    "        if i not in stopwords.words('english') and i not in string.punctuation:         # step-4\n",
    "            y.append(i)\n",
    "    text=y[:]\n",
    "    y.clear()\n",
    "    for i in text:\n",
    "        y.append(ps.stem(i))                # Step-5\n",
    "    return \" \".join(y)                      # Conversion to string"
   ]
  },
  {
   "cell_type": "code",
   "execution_count": 41,
   "id": "f7281134-7b03-4264-9141-c3708f2125d5",
   "metadata": {},
   "outputs": [
    {
     "name": "stderr",
     "output_type": "stream",
     "text": [
      "[nltk_data] Downloading package stopwords to\n",
      "[nltk_data]     C:\\Users\\DELL\\AppData\\Roaming\\nltk_data...\n",
      "[nltk_data]   Package stopwords is already up-to-date!\n"
     ]
    }
   ],
   "source": [
    "import nltk\n",
    "nltk.download('stopwords')\n",
    "from nltk.corpus import stopwords\n",
    "# stopwords.words('english')           # Shows all english stopwords\n",
    "import string \n",
    "# string.punctuation                   # Shows all punctuation\n",
    "from nltk.stem.porter import PorterStemmer\n",
    "ps=PorterStemmer()"
   ]
  },
  {
   "cell_type": "code",
   "execution_count": 42,
   "id": "1c31e794-09eb-4eb7-aab2-385de1abde32",
   "metadata": {},
   "outputs": [],
   "source": [
    "df['transformed_text']=df['text'].apply(transform_text)\n",
    "#df.head()"
   ]
  },
  {
   "cell_type": "code",
   "execution_count": 43,
   "id": "6069a82e-be56-4895-ae32-56f80caa2324",
   "metadata": {},
   "outputs": [],
   "source": [
    "from wordcloud import WordCloud\n",
    "wc=WordCloud(width=1000,height=1000,min_font_size=10,background_color='white')\n",
    "spam_wc=wc.generate(df[df['target']==1]['transformed_text'].str.cat(sep=\" \"))\n",
    "#plt.imshow(spam_wc)"
   ]
  },
  {
   "cell_type": "code",
   "execution_count": 44,
   "id": "03a18269-5de9-4321-8759-248d4e07bc89",
   "metadata": {},
   "outputs": [],
   "source": [
    "ham_wc=wc.generate(df[df['target']==0]['transformed_text'].str.cat(sep=\" \"))\n",
    "#plt.imshow(ham_wc)"
   ]
  },
  {
   "cell_type": "code",
   "execution_count": 45,
   "id": "ca3ba67e-fb0a-40a3-816d-5856ce45c5fb",
   "metadata": {},
   "outputs": [],
   "source": [
    "# We are trying to find top spam words \n",
    "spam_corpus=[]\n",
    "for msg in df[df['target']==1]['transformed_text'].tolist():\n",
    "    for word in msg.split():\n",
    "        spam_corpus.append(word)\n",
    "#len(spam_corpus)   -- total words are 9939"
   ]
  },
  {
   "cell_type": "code",
   "execution_count": 46,
   "id": "1283c82e-3648-4c59-8eae-794f88a1246b",
   "metadata": {},
   "outputs": [
    {
     "data": {
      "text/plain": [
       "([0,\n",
       "  1,\n",
       "  2,\n",
       "  3,\n",
       "  4,\n",
       "  5,\n",
       "  6,\n",
       "  7,\n",
       "  8,\n",
       "  9,\n",
       "  10,\n",
       "  11,\n",
       "  12,\n",
       "  13,\n",
       "  14,\n",
       "  15,\n",
       "  16,\n",
       "  17,\n",
       "  18,\n",
       "  19,\n",
       "  20,\n",
       "  21,\n",
       "  22,\n",
       "  23,\n",
       "  24,\n",
       "  25,\n",
       "  26,\n",
       "  27,\n",
       "  28,\n",
       "  29],\n",
       " [Text(0, 0, 'call'),\n",
       "  Text(1, 0, 'free'),\n",
       "  Text(2, 0, '2'),\n",
       "  Text(3, 0, 'txt'),\n",
       "  Text(4, 0, 'text'),\n",
       "  Text(5, 0, 'u'),\n",
       "  Text(6, 0, 'ur'),\n",
       "  Text(7, 0, 'mobil'),\n",
       "  Text(8, 0, 'stop'),\n",
       "  Text(9, 0, 'repli'),\n",
       "  Text(10, 0, 'claim'),\n",
       "  Text(11, 0, '4'),\n",
       "  Text(12, 0, 'prize'),\n",
       "  Text(13, 0, 'get'),\n",
       "  Text(14, 0, 'new'),\n",
       "  Text(15, 0, 'servic'),\n",
       "  Text(16, 0, 'tone'),\n",
       "  Text(17, 0, 'send'),\n",
       "  Text(18, 0, 'urgent'),\n",
       "  Text(19, 0, 'nokia'),\n",
       "  Text(20, 0, 'contact'),\n",
       "  Text(21, 0, 'award'),\n",
       "  Text(22, 0, 'phone'),\n",
       "  Text(23, 0, 'cash'),\n",
       "  Text(24, 0, 'pleas'),\n",
       "  Text(25, 0, 'week'),\n",
       "  Text(26, 0, 'win'),\n",
       "  Text(27, 0, 'c'),\n",
       "  Text(28, 0, 'collect'),\n",
       "  Text(29, 0, 'min')])"
      ]
     },
     "execution_count": 46,
     "metadata": {},
     "output_type": "execute_result"
    },
    {
     "data": {
      "image/png": "[encoded data removed]",
      "text/plain": [
       "<Figure size 640x480 with 1 Axes>"
      ]
     },
     "metadata": {},
     "output_type": "display_data"
    }
   ],
   "source": [
    "# Mapping for the no.of times the word occured\n",
    "from collections import Counter\n",
    "spam_df = pd.DataFrame(Counter(spam_corpus).most_common(30), columns=['Word', 'Count'])\n",
    "sns.barplot(x='Word', y='Count', data=spam_df)\n",
    "plt.xticks(rotation='vertical')                           # Values on x axis were in horizontal shape \n",
    "#plt.show()\n",
    "#Counter(spam_corpus).most_common(30)   top 30 words"
   ]
  },
  {
   "cell_type": "code",
   "execution_count": 47,
   "id": "dc026a1e-0c80-43c7-868b-716310bfb654",
   "metadata": {},
   "outputs": [
    {
     "data": {
      "text/plain": [
       "([0,\n",
       "  1,\n",
       "  2,\n",
       "  3,\n",
       "  4,\n",
       "  5,\n",
       "  6,\n",
       "  7,\n",
       "  8,\n",
       "  9,\n",
       "  10,\n",
       "  11,\n",
       "  12,\n",
       "  13,\n",
       "  14,\n",
       "  15,\n",
       "  16,\n",
       "  17,\n",
       "  18,\n",
       "  19,\n",
       "  20,\n",
       "  21,\n",
       "  22,\n",
       "  23,\n",
       "  24,\n",
       "  25,\n",
       "  26,\n",
       "  27,\n",
       "  28,\n",
       "  29],\n",
       " [Text(0, 0, 'u'),\n",
       "  Text(1, 0, 'go'),\n",
       "  Text(2, 0, 'get'),\n",
       "  Text(3, 0, 'gt'),\n",
       "  Text(4, 0, 'lt'),\n",
       "  Text(5, 0, '2'),\n",
       "  Text(6, 0, 'come'),\n",
       "  Text(7, 0, 'got'),\n",
       "  Text(8, 0, 'know'),\n",
       "  Text(9, 0, 'like'),\n",
       "  Text(10, 0, 'call'),\n",
       "  Text(11, 0, 'time'),\n",
       "  Text(12, 0, 'ok'),\n",
       "  Text(13, 0, 'love'),\n",
       "  Text(14, 0, 'good'),\n",
       "  Text(15, 0, 'want'),\n",
       "  Text(16, 0, 'ur'),\n",
       "  Text(17, 0, 'day'),\n",
       "  Text(18, 0, 'need'),\n",
       "  Text(19, 0, 'one'),\n",
       "  Text(20, 0, 'lor'),\n",
       "  Text(21, 0, '4'),\n",
       "  Text(22, 0, 'home'),\n",
       "  Text(23, 0, 'think'),\n",
       "  Text(24, 0, 'see'),\n",
       "  Text(25, 0, 'take'),\n",
       "  Text(26, 0, 'still'),\n",
       "  Text(27, 0, 'da'),\n",
       "  Text(28, 0, 'tell'),\n",
       "  Text(29, 0, 'make')])"
      ]
     },
     "execution_count": 47,
     "metadata": {},
     "output_type": "execute_result"
    },
    {
     "data": {
      "image/png": "[encoded data removed]",
      "text/plain": [
       "<Figure size 640x480 with 1 Axes>"
      ]
     },
     "metadata": {},
     "output_type": "display_data"
    }
   ],
   "source": [
    "ham_corpus=[]\n",
    "for msg in df[df['target']==0]['transformed_text'].tolist():\n",
    "    for word in msg.split():\n",
    "        ham_corpus.append(word)\n",
    "ham_df = pd.DataFrame(Counter(ham_corpus).most_common(30), columns=['Word', 'Count'])\n",
    "sns.barplot(x='Word', y='Count', data=ham_df)\n",
    "plt.xticks(rotation='vertical')                      \n",
    "#plt.show()"
   ]
  },
  {
   "cell_type": "markdown",
   "id": "017dc932-27ee-478d-a4c5-1e970a2f84c8",
   "metadata": {},
   "source": [
    "# Step-4: Model Building"
   ]
  },
  {
   "cell_type": "code",
   "execution_count": 52,
   "id": "4a749b04-b565-4252-8778-f7a465ae3971",
   "metadata": {},
   "outputs": [],
   "source": [
    "from sklearn.feature_extraction.text import CountVectorizer,TfidfVectorizer\n",
    "cv=CountVectorizer()\n",
    "tfidf=TfidfVectorizer()\n",
    "X=tfidf.fit_transform(df['transformed_text']).toarray()\n",
    "#X=cv.fit_transform(df['transformed_text']).toarray()\n",
    "# X.shape  -- 5169 SMS 6708 Messages  \n",
    "y= df['target'].values                  # we are using transformed text and target (spam or ham) to classify SMS"
   ]
  },
  {
   "cell_type": "code",
   "execution_count": 55,
   "id": "5d06d5c7-8db6-4d52-84c0-bbd6f926673d",
   "metadata": {},
   "outputs": [],
   "source": [
    "from sklearn.model_selection import train_test_split\n",
    "X_train,X_test,y_train,y_test = train_test_split(X,y,train_size=0.2,random_state=2)\n",
    "from sklearn.naive_bayes import GaussianNB,MultinomialNB,BernoulliNB\n",
    "from sklearn.metrics import accuracy_score,confusion_matrix,precision_score"
   ]
  },
  {
   "cell_type": "code",
   "execution_count": 54,
   "id": "976c0fba-dfcf-415e-9f5c-6c157e3c4c52",
   "metadata": {},
   "outputs": [],
   "source": [
    "gnb=GaussianNB()\n",
    "mnb=MultinomialNB()\n",
    "bnb=BernoulliNB()"
   ]
  },
  {
   "cell_type": "code",
   "execution_count": 57,
   "id": "f89e320d-c985-42b9-991b-bd04dbcefafe",
   "metadata": {},
   "outputs": [
    {
     "name": "stdout",
     "output_type": "stream",
     "text": [
      "0.8931334622823984\n",
      "[[3267  364]\n",
      " [  78  427]]\n",
      "0.5398230088495575\n"
     ]
    }
   ],
   "source": [
    "gnb.fit(X_train,y_train)\n",
    "y_pred1=gnb.predict(X_test)\n",
    "print(accuracy_score(y_test,y_pred1))\n",
    "print(confusion_matrix(y_test,y_pred1))\n",
    "print(precision_score(y_test,y_pred1))"
   ]
  },
  {
   "cell_type": "code",
   "execution_count": 59,
   "id": "aa047947-fb6a-4873-aaaa-589da04cdd4d",
   "metadata": {},
   "outputs": [
    {
     "name": "stdout",
     "output_type": "stream",
     "text": [
      "0.9743713733075435\n",
      "[[3591   40]\n",
      " [  66  439]]\n",
      "0.9164926931106472\n"
     ]
    }
   ],
   "source": [
    "mnb.fit(X_train,y_train)\n",
    "y_pred2=mnb.predict(X_test)\n",
    "print(accuracy_score(y_test,y_pred2))\n",
    "print(confusion_matrix(y_test,y_pred2))\n",
    "print(precision_score(y_test,y_pred2))"
   ]
  },
  {
   "cell_type": "code",
   "execution_count": 60,
   "id": "4527fa42-c778-4ffb-b9ca-c58c5510ed43",
   "metadata": {},
   "outputs": [
    {
     "name": "stdout",
     "output_type": "stream",
     "text": [
      "0.8870889748549323\n",
      "[[3629    2]\n",
      " [ 465   40]]\n",
      "0.9523809523809523\n"
     ]
    }
   ],
   "source": [
    "bnb.fit(X_train,y_train)\n",
    "y_pred3=bnb.predict(X_test)\n",
    "print(accuracy_score(y_test,y_pred3))\n",
    "print(confusion_matrix(y_test,y_pred3))\n",
    "print(precision_score(y_test,y_pred3))"
   ]
  },
  {
   "cell_type": "code",
   "execution_count": null,
   "id": "07a0a523-bb31-4cfe-9e73-0a6843eef88c",
   "metadata": {},
   "outputs": [],
   "source": []
  }
 ],
 "metadata": {
  "kernelspec": {
   "display_name": "Python 3 (ipykernel)",
   "language": "python",
   "name": "python3"
  },
  "language_info": {
   "codemirror_mode": {
    "name": "ipython",
    "version": 3
   },
   "file_extension": ".py",
   "mimetype": "text/x-python",
   "name": "python",
   "nbconvert_exporter": "python",
   "pygments_lexer": "ipython3",
   "version": "3.10.11"
  }
 },
 "nbformat": 4,
 "nbformat_minor": 5
}
